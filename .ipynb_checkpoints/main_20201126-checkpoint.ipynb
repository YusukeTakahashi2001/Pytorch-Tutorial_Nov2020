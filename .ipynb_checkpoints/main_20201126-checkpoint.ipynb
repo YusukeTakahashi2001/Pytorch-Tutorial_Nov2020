{
 "cells": [
  {
   "cell_type": "code",
<<<<<<< HEAD
   "execution_count": 1,
   "metadata": {},
   "outputs": [],
   "source": [
    "import sys,os\n",
    "import numpy as np\n",
    "import matplotlib.pyplot as plt\n",
    "import seaborn as sns"
=======
   "execution_count": 2,
   "metadata": {},
   "outputs": [],
   "source": [
    "import numpy as np\n",
    "import matplotlib.pyplot as plt\n",
    "import sys,os\n",
    "import random\n",
    "from comet_ml import Experiment"
>>>>>>> 0d866acc115dcb3e2e159dd9cf49321b86455b06
   ]
  },
  {
   "cell_type": "code",
   "execution_count": 2,
   "metadata": {},
   "outputs": [],
   "source": [
    "import torch\n",
<<<<<<< HEAD
    "import torchvision\n",
    "from torchvision import models,datasets\n",
    "import torch.nn as nn\n",
    "import torch.nn.functional as F"
   ]
  },
  {
   "cell_type": "code",
   "execution_count": null,
   "metadata": {},
   "outputs": [],
   "source": [
    "class Net(nn.Module):\n",
    "    def __init__(self):\n",
    "        super(Net,self).__init__()\n",
    "        self.conv1 = nn.Conv2d(1,32,3,2)\n",
    "        self.conv2 = nn.Conv2d(32,64,3,1)\n",
    "        \n",
    "    def forward(self,x):\n",
    "        x = F.relu(self.conv1(x))\n",
    "        x = F.max_pool2d(x,3,2)\n",
    "        x = F.relu(self.conv2(x))\n",
    "        x = F.max_pool2d(x,3,2)\n",
    "        "
=======
    "import torch.nn as nn\n",
    "import torch.nn.functional as F\n",
    "from torchvision import datasets,models,transforms\n",
    "import torchvision\n",
    "import torch.utils.data as data"
>>>>>>> 0d866acc115dcb3e2e159dd9cf49321b86455b06
   ]
  },
  {
   "cell_type": "code",
   "execution_count": null,
   "metadata": {},
   "outputs": [],
   "source": [
<<<<<<< HEAD
    "class CNNNet(nn.Module):\n",
    "    def __init__(self,in_channels):\n",
    "        super(CNNNet,self).__init__()\n",
    "        "
=======
    "class CNNNET(nn.Module):\n",
    "    def __init__(self,channel_in):\n",
    "        super(CNNNET,self).__init__()\n",
    "        self.Conv1 = nn.Conv2d(channel_in=channel_in,out_channels=32,kernel_size=3,stride=1)\n",
    "        self.maxpool1 =   F.max_pool2d()    "
>>>>>>> 0d866acc115dcb3e2e159dd9cf49321b86455b06
   ]
  }
 ],
 "metadata": {
  "kernelspec": {
   "display_name": "Python 3",
   "language": "python",
   "name": "python3"
  },
  "language_info": {
   "codemirror_mode": {
    "name": "ipython",
    "version": 3
   },
   "file_extension": ".py",
   "mimetype": "text/x-python",
   "name": "python",
   "nbconvert_exporter": "python",
   "pygments_lexer": "ipython3",
<<<<<<< HEAD
   "version": "3.8.5"
=======
   "version": "3.8.3"
>>>>>>> 0d866acc115dcb3e2e159dd9cf49321b86455b06
  }
 },
 "nbformat": 4,
 "nbformat_minor": 4
}
