{
 "cells": [
  {
   "cell_type": "code",
   "execution_count": 15,
   "metadata": {},
   "outputs": [],
   "source": [
    "import torch\n",
    "import torch.nn as nn\n",
    "import numpy as np\n",
    "import torch.nn.functional as F\n",
    "import torch.optim as optim\n",
    "import torchvision\n",
    "from torch.autograd import Variable"
   ]
  },
  {
   "cell_type": "code",
   "execution_count": 3,
   "metadata": {},
   "outputs": [],
   "source": [
    "#Datasets: FashionMNIST\n",
    "#Read\n",
    "fashion_mnist_data = torchvision.datasets.FashionMNIST(\n",
    "    './data',\n",
    "    transform=torchvision.transforms.ToTensor(),\n",
    "    download=True)"
   ]
  },
  {
   "cell_type": "code",
   "execution_count": 4,
   "metadata": {},
   "outputs": [],
   "source": [
    "data_loader = torch.utils.data.DataLoader(\n",
    "dataset= fashion_mnist_data,\n",
    "batch_size = 16,\n",
    "shuffle=True)"
   ]
  },
  {
   "cell_type": "code",
   "execution_count": 7,
   "metadata": {},
   "outputs": [],
   "source": [
    "fashion_mnist_data_test = torchvision.datasets.FashionMNIST(\n",
    "'.data',\n",
    "transform=torchvision.transforms.ToTensor(),\n",
    "train=False,\n",
    "download=True)"
   ]
  },
  {
   "cell_type": "code",
   "execution_count": 8,
   "metadata": {},
   "outputs": [],
   "source": [
    "data_loader_test = torch.utils.data.DataLoader(\n",
    "dataset=fashion_mnist_data_test,\n",
    "batch_size=16,\n",
    "shuffle=True)"
   ]
  },
  {
   "cell_type": "code",
   "execution_count": 9,
   "metadata": {},
   "outputs": [],
   "source": [
    "class CNN(nn.Module):\n",
    "    \n",
    "    def __init__(self):\n",
    "        super(CNN,self).__init__()\n",
    "        self.conv1 = nn.Conv2d(1,20,5,1)\n",
    "        self.conv2 = nn.Conv2d(20,50,5,1)\n",
    "        self.aff1 = nn.Linear(4*4*50,500)\n",
    "        self.aff2 = nn.Linear(500,10)\n",
    "        \n",
    "    def forward(self,x):\n",
    "        x = F.relu(self.conv1(x))\n",
    "        x = F.max_pool2d(x,2,2)\n",
    "        x = F.relu(self.conv2(x))\n",
    "        x = F.max_pool2d(x,2,2)\n",
    "        #Tensor の変形\n",
    "        x = x.view(-1,4*4*50)#to affine1\n",
    "        x = F.relu(self.aff1(x))#to affine2\n",
    "        x = self.aff2(x)\n",
    "        #softmax (dimension=1)\n",
    "        out = F.log_softmax(x,dim=1)\n",
    "        return out\n",
    "        "
   ]
  },
  {
   "cell_type": "code",
   "execution_count": 10,
   "metadata": {},
   "outputs": [],
   "source": [
    "#hyperparam\n",
    "lr = 0.01\n",
    "using_cuda = torch.cuda.is_available()#boolean value\n",
    "net = CNN()\n",
    "optimizer = optim.SGD(net.parameters(),lr=lr)\n",
    "criterion = nn.NLLLoss()"
   ]
  },
  {
   "cell_type": "code",
   "execution_count": 11,
   "metadata": {},
   "outputs": [],
   "source": [
    "if using_cuda:\n",
    "    net.cuda()\n",
    "    criterion.cuda()"
   ]
  },
  {
   "cell_type": "code",
   "execution_count": 13,
   "metadata": {},
   "outputs": [],
   "source": [
    "accuracies = []\n",
    "epochs =40"
   ]
  },
  {
   "cell_type": "code",
   "execution_count": 16,
   "metadata": {},
   "outputs": [],
   "source": [
    "for i in range(epochs):\n",
    "    #train--------------------------\n",
    "    #devide all data to batch and labels.\n",
    "    for batch,labels in data_loader:\n",
    "        #if cuda is available,use cuda about Auto Gradients.\n",
    "        if using_cuda:\n",
    "            x = Variable(batch.cuda())\n",
    "            y = Variable(labels.cuda())\n",
    "        else:\n",
    "            x = Variable(batch)\n",
    "            y = Variable(labels)\n",
    "        optimizer.zero_grad()\n",
    "        #train model\n",
    "        output = net(x)\n",
    "        #Calcurate loss.\n",
    "        loss = criterion(output,y)\n",
    "        #backward\n",
    "        loss.backward()\n",
    "        #Update params\n",
    "        optimizer.step()\n",
    "        \n",
    "    n_true = 0\n",
    "    #test--------------------------------\n",
    "    for batch,labels in data_loader_test:\n",
    "        #Read Grad from Train data\n",
    "        if using_cuda:\n",
    "            output = net(Variable(batch.cuda()))\n",
    "        else:\n",
    "            output = net(Variable(batch))\n",
    "            _,predicted = torch.max(output.data,1)\n",
    "        if using_cuda:\n",
    "            y_predicted = predicted.cpu().numpy()\n",
    "        else:\n",
    "            y_predicted = predicted.numpy()\n",
    "            n_true += np.sum(y_predicted == labels.numpy())\n",
    "            \n",
    "    total = len(fashion_mnist_data_test)\n",
    "    accuracy = 100 * n_true/total\n",
    "    accuracies.append(accuracy)\n",
    "            \n",
    "    \n",
    "        "
   ]
  },
  {
   "cell_type": "code",
   "execution_count": 41,
   "metadata": {},
   "outputs": [
    {
     "name": "stdout",
     "output_type": "stream",
     "text": [
      "Max: 91.05 %\n",
      "Min: 79.7 %\n",
      "\n"
     ]
    }
   ],
   "source": [
    "print('Max:',max(accuracies),'%\\nMin:',min(accuracies),'%\\n')"
   ]
  },
  {
   "cell_type": "code",
   "execution_count": 22,
   "metadata": {},
   "outputs": [
    {
     "data": {
      "text/plain": [
       "79.7"
      ]
     },
     "execution_count": 22,
     "metadata": {},
     "output_type": "execute_result"
    }
   ],
   "source": [
    "min(accuracies)"
   ]
  },
  {
   "cell_type": "code",
   "execution_count": 25,
   "metadata": {},
   "outputs": [],
   "source": [
    "import seaborn as sns"
   ]
  },
  {
   "cell_type": "code",
   "execution_count": null,
   "metadata": {},
   "outputs": [],
   "source": []
  },
  {
   "cell_type": "code",
   "execution_count": null,
   "metadata": {},
   "outputs": [],
   "source": []
  }
 ],
 "metadata": {
  "kernelspec": {
   "display_name": "Python 3",
   "language": "python",
   "name": "python3"
  },
  "language_info": {
   "codemirror_mode": {
    "name": "ipython",
    "version": 3
   },
   "file_extension": ".py",
   "mimetype": "text/x-python",
   "name": "python",
   "nbconvert_exporter": "python",
   "pygments_lexer": "ipython3",
   "version": "3.8.3"
  }
 },
 "nbformat": 4,
 "nbformat_minor": 4
}
