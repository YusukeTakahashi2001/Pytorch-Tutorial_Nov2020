{
 "cells": [
  {
   "cell_type": "code",
   "execution_count": 5,
   "metadata": {},
   "outputs": [],
   "source": [
    "import numpy as np\n",
    "import seaborn as sns\n",
    "import random\n",
    "from PIL import Image\n",
    "import sys,os"
   ]
  },
  {
   "cell_type": "code",
   "execution_count": 11,
   "metadata": {},
   "outputs": [],
   "source": [
    "import torch\n",
    "import torch.nn as nn\n",
    "import torch.optim as optim\n",
    "import torch.utils.data as data\n",
    "import torchvision\n",
    "from torchvision import models,transforms,datasets\n",
    "import torch.nn.functional as F"
   ]
  },
  {
   "cell_type": "code",
   "execution_count": 7,
   "metadata": {},
   "outputs": [],
   "source": [
    "class Net1(nn.Module):\n",
    "    def __init__(self,input_size,hidden_size,outputsize):\n",
    "        super(Net1,self).__init__()\n",
    "        self.linear1 = nn.Linear(input_size,hidden_size)\n",
    "        self.linear2 = nn.Linear(hidden_size,outputsize)\n",
    "        \n",
    "    def forward(self,X1):\n",
    "        X1 = self.linear1(X1)\n",
    "        X1 = F.relu(X1)\n",
    "        X1 = self.linear2(X1)\n",
    "        out = F.softmax(X1,dim= -1)\n",
    "        return out        "
   ]
  },
  {
   "cell_type": "code",
   "execution_count": 13,
   "metadata": {},
   "outputs": [],
   "source": [
    "class ImageTransform():\n",
    "    def __init__(self):\n",
    "        self.data_transform = transforms.Compose([\n",
    "            transforms.ToTensor(),\n",
    "            transforms.Lambda(lambda x : x.view(784))\n",
    "        ])\n",
    "        \n",
    "    def __call__(self,img):\n",
    "        return self.data_transform(img)"
   ]
  },
  {
   "cell_type": "code",
   "execution_count": 8,
   "metadata": {},
   "outputs": [],
   "source": [
    "def Learning(lr=0.01,batch_size=18,n_epoch=4):\n",
    "    #Setting\n",
    "    model = Net1(input_size=784,hidden_size=200,outputsize=10)\n",
    "    optimizer = optim.Adagrad(model.parameters(),lr=lr)\n",
    "    criterion = nn.CrossEntropyLoss()\n",
    "    transform = ImageTransform()\n",
    "    \n",
    "    #mnist dataload\n",
    "    data_train = torch.utils.data.DataLoader(\n",
    "        datasets.FashionMNIST('./data/fashion-mnist',train=True,download=True,transform=transform),\n",
    "        batch_size=batch_size,\n",
    "        shuffle=True        \n",
    "    )\n",
    "    \n",
    "    data_test = torch.utils.data.DataLoader(\n",
    "        datasets.FashionMNIST('./data/fashion-mnist',train=False,download=True,transform=transform),\n",
    "        shuffle=False\n",
    "    )\n",
    "    \n",
    "    # --Learning---\n",
    "    loss_list_train =  []\n",
    "    loss_list_test = []\n",
    "    acc_list_test = []\n",
    "    \n",
    "    \n",
    "    \n",
    "    \n",
    "    \n",
    "    \n",
    "    \n",
    "    \n",
    "    \n",
    "    \n",
    "    \n",
    "        \n",
    "    "
   ]
  }
 ],
 "metadata": {
  "kernelspec": {
   "display_name": "Python 3",
   "language": "python",
   "name": "python3"
  },
  "language_info": {
   "codemirror_mode": {
    "name": "ipython",
    "version": 3
   },
   "file_extension": ".py",
   "mimetype": "text/x-python",
   "name": "python",
   "nbconvert_exporter": "python",
   "pygments_lexer": "ipython3",
   "version": "3.8.3"
  }
 },
 "nbformat": 4,
 "nbformat_minor": 4
}
